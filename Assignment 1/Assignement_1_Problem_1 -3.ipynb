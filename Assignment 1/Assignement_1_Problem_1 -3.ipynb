{
 "cells": [
  {
   "cell_type": "markdown",
   "id": "023e69f5",
   "metadata": {},
   "source": [
    "# Assignment 1\n",
    "### Problem 1"
   ]
  },
  {
   "cell_type": "code",
   "execution_count": 1,
   "id": "547b6c91",
   "metadata": {},
   "outputs": [],
   "source": [
    "import numpy as np"
   ]
  },
  {
   "cell_type": "code",
   "execution_count": 5,
   "id": "6d0a9793",
   "metadata": {},
   "outputs": [],
   "source": [
    "arr = np.random.randint(1,51,size=(5,4))\n"
   ]
  },
  {
   "cell_type": "code",
   "execution_count": 9,
   "id": "374ea98d",
   "metadata": {},
   "outputs": [
    {
     "name": "stdout",
     "output_type": "stream",
     "text": [
      "[[22 33 44 26]\n",
      " [30 49 21 13]\n",
      " [43 11  4 47]\n",
      " [18  9 17  7]\n",
      " [15  1 29 26]]\n"
     ]
    }
   ],
   "source": [
    "print(arr)"
   ]
  },
  {
   "cell_type": "code",
   "execution_count": 16,
   "id": "2560aa45",
   "metadata": {},
   "outputs": [
    {
     "name": "stdout",
     "output_type": "stream",
     "text": [
      "[26 21 11 18]\n"
     ]
    }
   ],
   "source": [
    "anti_diag = np.fliplr(arr).diagonal()\n",
    "print(anti_diag)"
   ]
  },
  {
   "cell_type": "code",
   "execution_count": 22,
   "id": "c3806f95",
   "metadata": {},
   "outputs": [
    {
     "name": "stdout",
     "output_type": "stream",
     "text": [
      "[44 49 47 18 29]\n"
     ]
    }
   ],
   "source": [
    "max_val = np.max(arr, axis=1)\n",
    "print(max_val)"
   ]
  },
  {
   "cell_type": "code",
   "execution_count": 24,
   "id": "101c7175",
   "metadata": {},
   "outputs": [
    {
     "name": "stdout",
     "output_type": "stream",
     "text": [
      "23.25\n"
     ]
    }
   ],
   "source": [
    "mean_val = np.mean(arr)\n",
    "print(mean_val)"
   ]
  },
  {
   "cell_type": "code",
   "execution_count": 30,
   "id": "fd10972a",
   "metadata": {},
   "outputs": [
    {
     "name": "stdout",
     "output_type": "stream",
     "text": [
      "[33 44 26 30 49 43 47 29 26]\n"
     ]
    }
   ],
   "source": [
    "new_arr = arr[arr > mean_val]\n",
    "print(new_arr)\n"
   ]
  },
  {
   "cell_type": "code",
   "execution_count": 63,
   "id": "498a98c7",
   "metadata": {},
   "outputs": [
    {
     "data": {
      "text/plain": [
       "array([26, 29,  1, 15], dtype=int32)"
      ]
     },
     "execution_count": 63,
     "metadata": {},
     "output_type": "execute_result"
    }
   ],
   "source": [
    "arr[-1,::-1]"
   ]
  },
  {
   "cell_type": "code",
   "execution_count": 62,
   "id": "d328103c",
   "metadata": {},
   "outputs": [
    {
     "data": {
      "text/plain": [
       "array([15, 18, 43, 30, 22], dtype=int32)"
      ]
     },
     "execution_count": 62,
     "metadata": {},
     "output_type": "execute_result"
    }
   ],
   "source": [
    "arr[::-1,0]"
   ]
  },
  {
   "cell_type": "code",
   "execution_count": 70,
   "id": "a8dd5f98",
   "metadata": {},
   "outputs": [
    {
     "data": {
      "text/plain": [
       "3"
      ]
     },
     "execution_count": 70,
     "metadata": {},
     "output_type": "execute_result"
    }
   ],
   "source": [
    "right = len(arr[0]) - 1\n",
    "right"
   ]
  },
  {
   "cell_type": "code",
   "execution_count": 74,
   "id": "8e5b1946",
   "metadata": {},
   "outputs": [
    {
     "name": "stdout",
     "output_type": "stream",
     "text": [
      "[22 33 44 26 13 47  7 26 29  1 15 18 43 30]\n"
     ]
    }
   ],
   "source": [
    "def numpy_boundary_traversal(arr):\n",
    "  top = 0\n",
    "  right = len(arr[0]) - 1\n",
    "  bottom = len(arr) - 1\n",
    "  left = 0\n",
    "  out = []\n",
    "  \n",
    "  for i in range(left,right +1):\n",
    "    out.append(arr[top][i])\n",
    "  for i in range(top + 1, bottom + 1):\n",
    "    out.append(arr[i][right])\n",
    "  for i in range(right - 1,left - 1,-1):\n",
    "    out.append(arr[bottom][i])\n",
    "  for i in range(bottom - 1, top , -1):\n",
    "    out.append(arr[i][left])\n",
    "  return np.array(out)\n",
    "\n",
    "print(numpy_boundary_traversal(arr))\n",
    "  \n",
    "    \n"
   ]
  },
  {
   "cell_type": "markdown",
   "id": "ceb6c51b",
   "metadata": {},
   "source": [
    "# Problem 2"
   ]
  },
  {
   "cell_type": "code",
   "execution_count": 96,
   "id": "4ae4ae2b",
   "metadata": {},
   "outputs": [
    {
     "data": {
      "text/plain": [
       "array([4.83443785, 2.77762728, 8.0617698 , 5.67781213, 6.51040533,\n",
       "       7.45711694, 3.99301605, 9.063425  , 2.85849556, 4.5930035 ,\n",
       "       1.07448632, 1.52070054, 2.06655224, 6.04661261, 6.17804179,\n",
       "       3.06482579, 8.43663608, 5.06256141, 2.22959072, 1.36280556])"
      ]
     },
     "execution_count": 96,
     "metadata": {},
     "output_type": "execute_result"
    }
   ],
   "source": [
    "arr1 = np.random.uniform(0,10,size = 20)\n",
    "arr1"
   ]
  },
  {
   "cell_type": "code",
   "execution_count": 97,
   "id": "508a8681",
   "metadata": {},
   "outputs": [
    {
     "name": "stdout",
     "output_type": "stream",
     "text": [
      "[4.83 2.78 8.06 5.68 6.51 7.46 3.99 9.06 2.86 4.59 1.07 1.52 2.07 6.05\n",
      " 6.18 3.06 8.44 5.06 2.23 1.36]\n"
     ]
    }
   ],
   "source": [
    "arr1 = np.round(arr1, 2)\n",
    "print(arr1)"
   ]
  },
  {
   "cell_type": "code",
   "execution_count": 98,
   "id": "8dc46b09",
   "metadata": {},
   "outputs": [
    {
     "name": "stdout",
     "output_type": "stream",
     "text": [
      "Maximum of the array:9.06\n",
      "Minimum of the array:1.07\n",
      "Median of the array:4.71\n"
     ]
    }
   ],
   "source": [
    "print(f'Maximum of the array:{np.max(arr1)}')\n",
    "print(f'Minimum of the array:{np.min(arr1)}')\n",
    "print(f'Median of the array:{np.median(arr1)}')"
   ]
  },
  {
   "cell_type": "code",
   "execution_count": 99,
   "id": "a2eb5bed",
   "metadata": {},
   "outputs": [
    {
     "data": {
      "text/plain": [
       "array([23.3289,  7.7284,  8.06  ,  5.68  ,  6.51  ,  7.46  , 15.9201,\n",
       "        9.06  ,  8.1796, 21.0681,  1.1449,  2.3104,  4.2849,  6.05  ,\n",
       "        6.18  ,  9.3636,  8.44  ,  5.06  ,  4.9729,  1.8496])"
      ]
     },
     "execution_count": 99,
     "metadata": {},
     "output_type": "execute_result"
    }
   ],
   "source": [
    "arr1 = np.array([x if x >5 else np.pow(x,2) for x in arr1])\n",
    "arr1"
   ]
  },
  {
   "cell_type": "code",
   "execution_count": 108,
   "id": "f12f333c",
   "metadata": {},
   "outputs": [
    {
     "name": "stdout",
     "output_type": "stream",
     "text": [
      "[ 1.1449 23.3289  1.8496 21.0681  2.3104 15.9201  4.2849  9.3636  4.9729\n",
      "  9.06    5.06    8.44    5.68    8.1796  6.05    8.06    6.18    7.7284\n",
      "  6.51    7.46  ]\n"
     ]
    }
   ],
   "source": [
    "def numpy_alternate_sort(arr):\n",
    "  start = 0\n",
    "  end = len(arr2) - 1\n",
    "  out1 = []\n",
    "  while start <= end:\n",
    "    out1.append(arr2[start])\n",
    "    out1.append(arr2[end])\n",
    "    start += 1\n",
    "    end -=1\n",
    "  return np.array(out1)\n",
    "\n",
    "\n",
    "print(numpy_alternate_sort(arr1))\n"
   ]
  },
  {
   "cell_type": "markdown",
   "id": "2c17c344",
   "metadata": {},
   "source": [
    "# Problem 3"
   ]
  },
  {
   "cell_type": "code",
   "execution_count": 109,
   "id": "521be841",
   "metadata": {},
   "outputs": [],
   "source": [
    "import pandas as pd"
   ]
  },
  {
   "cell_type": "code",
   "execution_count": 123,
   "id": "c0a343ba",
   "metadata": {},
   "outputs": [
    {
     "name": "stdout",
     "output_type": "stream",
     "text": [
      "     Name  Subject  Score Grade\n",
      "0   Aryan     Math     76      \n",
      "1    Isha  Science     52      \n",
      "2   Rubel  English     65      \n",
      "3    Diya  History     85      \n",
      "4  Ritwik  English     85      \n",
      "5  Ananya     Math     73      \n",
      "6   Rohan  English     57      \n",
      "7   Vipul  Science     69      \n",
      "8   Arjun  Science     77      \n",
      "9   Sneha  History     90      \n"
     ]
    }
   ],
   "source": [
    "student_names = ['Aryan', 'Isha', 'Rubel', 'Diya', 'Ritwik', 'Ananya', 'Rohan', 'Vipul', 'Arjun', 'Sneha']\n",
    "subjects = ['Math', 'Science', 'English', 'History','English','Math','English','Science','Science','History']\n",
    "\n",
    "scores = np.random.randint(50, 101, size=10)\n",
    "\n",
    "# Create DataFrame\n",
    "df = pd.DataFrame({\n",
    "    'Name': student_names,\n",
    "    'Subject': subjects,\n",
    "    'Score': scores,\n",
    "    'Grade': [''] * 10  # Initially empty\n",
    "})\n",
    "\n",
    "print(df)\n",
    "\n"
   ]
  },
  {
   "cell_type": "code",
   "execution_count": 124,
   "id": "2997594d",
   "metadata": {},
   "outputs": [
    {
     "data": {
      "text/html": [
       "<div>\n",
       "<style scoped>\n",
       "    .dataframe tbody tr th:only-of-type {\n",
       "        vertical-align: middle;\n",
       "    }\n",
       "\n",
       "    .dataframe tbody tr th {\n",
       "        vertical-align: top;\n",
       "    }\n",
       "\n",
       "    .dataframe thead th {\n",
       "        text-align: right;\n",
       "    }\n",
       "</style>\n",
       "<table border=\"1\" class=\"dataframe\">\n",
       "  <thead>\n",
       "    <tr style=\"text-align: right;\">\n",
       "      <th></th>\n",
       "      <th>Name</th>\n",
       "      <th>Subject</th>\n",
       "      <th>Score</th>\n",
       "      <th>Grade</th>\n",
       "    </tr>\n",
       "  </thead>\n",
       "  <tbody>\n",
       "    <tr>\n",
       "      <th>0</th>\n",
       "      <td>Aryan</td>\n",
       "      <td>Math</td>\n",
       "      <td>76</td>\n",
       "      <td>C</td>\n",
       "    </tr>\n",
       "    <tr>\n",
       "      <th>1</th>\n",
       "      <td>Isha</td>\n",
       "      <td>Science</td>\n",
       "      <td>52</td>\n",
       "      <td>F</td>\n",
       "    </tr>\n",
       "    <tr>\n",
       "      <th>2</th>\n",
       "      <td>Rubel</td>\n",
       "      <td>English</td>\n",
       "      <td>65</td>\n",
       "      <td>D</td>\n",
       "    </tr>\n",
       "    <tr>\n",
       "      <th>3</th>\n",
       "      <td>Diya</td>\n",
       "      <td>History</td>\n",
       "      <td>85</td>\n",
       "      <td>B</td>\n",
       "    </tr>\n",
       "    <tr>\n",
       "      <th>4</th>\n",
       "      <td>Ritwik</td>\n",
       "      <td>English</td>\n",
       "      <td>85</td>\n",
       "      <td>B</td>\n",
       "    </tr>\n",
       "    <tr>\n",
       "      <th>5</th>\n",
       "      <td>Ananya</td>\n",
       "      <td>Math</td>\n",
       "      <td>73</td>\n",
       "      <td>C</td>\n",
       "    </tr>\n",
       "    <tr>\n",
       "      <th>6</th>\n",
       "      <td>Rohan</td>\n",
       "      <td>English</td>\n",
       "      <td>57</td>\n",
       "      <td>F</td>\n",
       "    </tr>\n",
       "    <tr>\n",
       "      <th>7</th>\n",
       "      <td>Vipul</td>\n",
       "      <td>Science</td>\n",
       "      <td>69</td>\n",
       "      <td>D</td>\n",
       "    </tr>\n",
       "    <tr>\n",
       "      <th>8</th>\n",
       "      <td>Arjun</td>\n",
       "      <td>Science</td>\n",
       "      <td>77</td>\n",
       "      <td>C</td>\n",
       "    </tr>\n",
       "    <tr>\n",
       "      <th>9</th>\n",
       "      <td>Sneha</td>\n",
       "      <td>History</td>\n",
       "      <td>90</td>\n",
       "      <td>A</td>\n",
       "    </tr>\n",
       "  </tbody>\n",
       "</table>\n",
       "</div>"
      ],
      "text/plain": [
       "     Name  Subject  Score Grade\n",
       "0   Aryan     Math     76     C\n",
       "1    Isha  Science     52     F\n",
       "2   Rubel  English     65     D\n",
       "3    Diya  History     85     B\n",
       "4  Ritwik  English     85     B\n",
       "5  Ananya     Math     73     C\n",
       "6   Rohan  English     57     F\n",
       "7   Vipul  Science     69     D\n",
       "8   Arjun  Science     77     C\n",
       "9   Sneha  History     90     A"
      ]
     },
     "execution_count": 124,
     "metadata": {},
     "output_type": "execute_result"
    }
   ],
   "source": [
    "df['Grade'] = df['Score'].apply(lambda x:'A' if x>=90 else 'B' if x >= 80 else 'C' if x >= 70 else 'D' if x >= 60 else 'F')\n",
    "df"
   ]
  },
  {
   "cell_type": "code",
   "execution_count": 125,
   "id": "e313c497",
   "metadata": {},
   "outputs": [
    {
     "data": {
      "text/html": [
       "<div>\n",
       "<style scoped>\n",
       "    .dataframe tbody tr th:only-of-type {\n",
       "        vertical-align: middle;\n",
       "    }\n",
       "\n",
       "    .dataframe tbody tr th {\n",
       "        vertical-align: top;\n",
       "    }\n",
       "\n",
       "    .dataframe thead th {\n",
       "        text-align: right;\n",
       "    }\n",
       "</style>\n",
       "<table border=\"1\" class=\"dataframe\">\n",
       "  <thead>\n",
       "    <tr style=\"text-align: right;\">\n",
       "      <th></th>\n",
       "      <th>Name</th>\n",
       "      <th>Subject</th>\n",
       "      <th>Score</th>\n",
       "      <th>Grade</th>\n",
       "    </tr>\n",
       "  </thead>\n",
       "  <tbody>\n",
       "    <tr>\n",
       "      <th>9</th>\n",
       "      <td>Sneha</td>\n",
       "      <td>History</td>\n",
       "      <td>90</td>\n",
       "      <td>A</td>\n",
       "    </tr>\n",
       "    <tr>\n",
       "      <th>3</th>\n",
       "      <td>Diya</td>\n",
       "      <td>History</td>\n",
       "      <td>85</td>\n",
       "      <td>B</td>\n",
       "    </tr>\n",
       "    <tr>\n",
       "      <th>4</th>\n",
       "      <td>Ritwik</td>\n",
       "      <td>English</td>\n",
       "      <td>85</td>\n",
       "      <td>B</td>\n",
       "    </tr>\n",
       "    <tr>\n",
       "      <th>8</th>\n",
       "      <td>Arjun</td>\n",
       "      <td>Science</td>\n",
       "      <td>77</td>\n",
       "      <td>C</td>\n",
       "    </tr>\n",
       "    <tr>\n",
       "      <th>0</th>\n",
       "      <td>Aryan</td>\n",
       "      <td>Math</td>\n",
       "      <td>76</td>\n",
       "      <td>C</td>\n",
       "    </tr>\n",
       "    <tr>\n",
       "      <th>5</th>\n",
       "      <td>Ananya</td>\n",
       "      <td>Math</td>\n",
       "      <td>73</td>\n",
       "      <td>C</td>\n",
       "    </tr>\n",
       "    <tr>\n",
       "      <th>7</th>\n",
       "      <td>Vipul</td>\n",
       "      <td>Science</td>\n",
       "      <td>69</td>\n",
       "      <td>D</td>\n",
       "    </tr>\n",
       "    <tr>\n",
       "      <th>2</th>\n",
       "      <td>Rubel</td>\n",
       "      <td>English</td>\n",
       "      <td>65</td>\n",
       "      <td>D</td>\n",
       "    </tr>\n",
       "    <tr>\n",
       "      <th>6</th>\n",
       "      <td>Rohan</td>\n",
       "      <td>English</td>\n",
       "      <td>57</td>\n",
       "      <td>F</td>\n",
       "    </tr>\n",
       "    <tr>\n",
       "      <th>1</th>\n",
       "      <td>Isha</td>\n",
       "      <td>Science</td>\n",
       "      <td>52</td>\n",
       "      <td>F</td>\n",
       "    </tr>\n",
       "  </tbody>\n",
       "</table>\n",
       "</div>"
      ],
      "text/plain": [
       "     Name  Subject  Score Grade\n",
       "9   Sneha  History     90     A\n",
       "3    Diya  History     85     B\n",
       "4  Ritwik  English     85     B\n",
       "8   Arjun  Science     77     C\n",
       "0   Aryan     Math     76     C\n",
       "5  Ananya     Math     73     C\n",
       "7   Vipul  Science     69     D\n",
       "2   Rubel  English     65     D\n",
       "6   Rohan  English     57     F\n",
       "1    Isha  Science     52     F"
      ]
     },
     "execution_count": 125,
     "metadata": {},
     "output_type": "execute_result"
    }
   ],
   "source": [
    "df = df.sort_values(by= 'Score' , ascending=False)\n",
    "df"
   ]
  },
  {
   "cell_type": "code",
   "execution_count": 133,
   "id": "4fb4338b",
   "metadata": {},
   "outputs": [
    {
     "name": "stdout",
     "output_type": "stream",
     "text": [
      "   Subject  Average Score\n",
      "0  English           69.0\n",
      "1  History           87.5\n",
      "2     Math           74.5\n",
      "3  Science           66.0\n"
     ]
    }
   ],
   "source": [
    "avg_score = df.groupby('Subject')['Score'].mean().reset_index()\n",
    "avg_score.columns = ['Subject', 'Average Score']\n",
    "print(avg_score)\n"
   ]
  },
  {
   "cell_type": "code",
   "execution_count": 146,
   "id": "3c2755f0",
   "metadata": {},
   "outputs": [
    {
     "data": {
      "text/plain": [
       "pandas.core.frame.DataFrame"
      ]
     },
     "execution_count": 146,
     "metadata": {},
     "output_type": "execute_result"
    }
   ],
   "source": [
    "def pandas_filter_pass(dataframe):\n",
    "    return dataframe[dataframe['Grade'].isin(['A', 'B'])]\n",
    "\n",
    "\n",
    "\n",
    "y = pandas_filter_pass(df)\n",
    "type(y)"
   ]
  },
  {
   "cell_type": "markdown",
   "id": "15638701",
   "metadata": {},
   "source": []
  }
 ],
 "metadata": {
  "kernelspec": {
   "display_name": "Python 3",
   "language": "python",
   "name": "python3"
  },
  "language_info": {
   "codemirror_mode": {
    "name": "ipython",
    "version": 3
   },
   "file_extension": ".py",
   "mimetype": "text/x-python",
   "name": "python",
   "nbconvert_exporter": "python",
   "pygments_lexer": "ipython3",
   "version": "3.13.3"
  }
 },
 "nbformat": 4,
 "nbformat_minor": 5
}
